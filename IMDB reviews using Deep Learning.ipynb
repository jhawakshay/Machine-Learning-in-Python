{
 "cells": [
  {
   "cell_type": "code",
   "execution_count": 1,
   "metadata": {},
   "outputs": [],
   "source": [
    "from keras.datasets import imdb"
   ]
  },
  {
   "cell_type": "markdown",
   "metadata": {},
   "source": [
    "#### Subset the data into Train and Test"
   ]
  },
  {
   "cell_type": "code",
   "execution_count": 2,
   "metadata": {},
   "outputs": [
    {
     "name": "stdout",
     "output_type": "stream",
     "text": [
      "Downloading data from https://storage.googleapis.com/tensorflow/tf-keras-datasets/imdb.npz\n",
      "17465344/17464789 [==============================] - 5s 0us/step\n"
     ]
    }
   ],
   "source": [
    "(train_data, train_labels), (test_data, test_labels) = imdb.load_data(num_words=1000)"
   ]
  },
  {
   "cell_type": "code",
   "execution_count": 4,
   "metadata": {},
   "outputs": [],
   "source": [
    "import numpy as np"
   ]
  },
  {
   "cell_type": "markdown",
   "metadata": {},
   "source": [
    "#### Prepare the Data"
   ]
  },
  {
   "cell_type": "code",
   "execution_count": 7,
   "metadata": {},
   "outputs": [],
   "source": [
    "def vectorize_sequences(sequences, dimensions=1000):\n",
    "    results   = np.zeros((len(sequences), dimensions))\n",
    "    for i, sequence in enumerate(sequences):\n",
    "        results[i,sequence] = 1\n",
    "    return results\n",
    "\n",
    "x_train = vectorize_sequences(train_data)\n",
    "x_test  = vectorize_sequences(test_data)"
   ]
  },
  {
   "cell_type": "code",
   "execution_count": 8,
   "metadata": {},
   "outputs": [],
   "source": [
    "y_train  = np.asarray(train_labels).astype('float32')\n",
    "y_test   = np.asarray(test_labels).astype('float32')"
   ]
  },
  {
   "cell_type": "markdown",
   "metadata": {},
   "source": [
    "#### Developing the Model"
   ]
  },
  {
   "cell_type": "code",
   "execution_count": 17,
   "metadata": {},
   "outputs": [],
   "source": [
    "from keras import models\n",
    "from keras import layers\n",
    "\n",
    "\n",
    "model = models.Sequential()\n",
    "model.add(layers.Dense(16, activation = 'relu', input_shape=(1000,)))\n",
    "model.add(layers.Dense(16, activation = 'relu'))\n",
    "model.add(layers.Dense(1, activation=\"sigmoid\"))"
   ]
  },
  {
   "cell_type": "code",
   "execution_count": 18,
   "metadata": {},
   "outputs": [],
   "source": [
    "model.compile(optimizer = \"rmsprop\",\n",
    "             loss='binary_crossentropy',\n",
    "             metrics = ['accuracy'])"
   ]
  },
  {
   "cell_type": "code",
   "execution_count": 11,
   "metadata": {},
   "outputs": [],
   "source": [
    "from keras import optimizers"
   ]
  },
  {
   "cell_type": "code",
   "execution_count": 19,
   "metadata": {},
   "outputs": [],
   "source": [
    "model.compile(optimizer = optimizers.RMSprop(lr=0.001),\n",
    "             loss='binary_crossentropy',\n",
    "             metrics = ['accuracy'])"
   ]
  },
  {
   "cell_type": "code",
   "execution_count": 20,
   "metadata": {},
   "outputs": [],
   "source": [
    "x_val   = x_train[:1000]\n",
    "partial_x_train = x_train[1000:]\n",
    "\n",
    "y_val   = y_train[:1000]\n",
    "partial_y_train = y_train[1000:]"
   ]
  },
  {
   "cell_type": "code",
   "execution_count": 21,
   "metadata": {},
   "outputs": [
    {
     "name": "stdout",
     "output_type": "stream",
     "text": [
      "Epoch 1/20\n",
      "47/47 [==============================] - 1s 20ms/step - loss: 0.5372 - accuracy: 0.7503 - val_loss: 0.4080 - val_accuracy: 0.8250\n",
      "Epoch 2/20\n",
      "47/47 [==============================] - 1s 13ms/step - loss: 0.3722 - accuracy: 0.8457 - val_loss: 0.3537 - val_accuracy: 0.8510\n",
      "Epoch 3/20\n",
      "47/47 [==============================] - 1s 12ms/step - loss: 0.3306 - accuracy: 0.8639 - val_loss: 0.3227 - val_accuracy: 0.8590\n",
      "Epoch 4/20\n",
      "47/47 [==============================] - 1s 12ms/step - loss: 0.3174 - accuracy: 0.8676 - val_loss: 0.3194 - val_accuracy: 0.8660\n",
      "Epoch 5/20\n",
      "47/47 [==============================] - 1s 13ms/step - loss: 0.3117 - accuracy: 0.8712 - val_loss: 0.3155 - val_accuracy: 0.8620\n",
      "Epoch 6/20\n",
      "47/47 [==============================] - 1s 13ms/step - loss: 0.3059 - accuracy: 0.8726 - val_loss: 0.3167 - val_accuracy: 0.8640\n",
      "Epoch 7/20\n",
      "47/47 [==============================] - 1s 12ms/step - loss: 0.3036 - accuracy: 0.8734 - val_loss: 0.3150 - val_accuracy: 0.8650\n",
      "Epoch 8/20\n",
      "47/47 [==============================] - 1s 12ms/step - loss: 0.3021 - accuracy: 0.8735 - val_loss: 0.3191 - val_accuracy: 0.8560\n",
      "Epoch 9/20\n",
      "47/47 [==============================] - 1s 13ms/step - loss: 0.2997 - accuracy: 0.8749 - val_loss: 0.3528 - val_accuracy: 0.8600\n",
      "Epoch 10/20\n",
      "47/47 [==============================] - 1s 13ms/step - loss: 0.2979 - accuracy: 0.8763 - val_loss: 0.3205 - val_accuracy: 0.8480\n",
      "Epoch 11/20\n",
      "47/47 [==============================] - 1s 13ms/step - loss: 0.2946 - accuracy: 0.8781 - val_loss: 0.3171 - val_accuracy: 0.8650\n",
      "Epoch 12/20\n",
      "47/47 [==============================] - 1s 11ms/step - loss: 0.2951 - accuracy: 0.8782 - val_loss: 0.3142 - val_accuracy: 0.8560\n",
      "Epoch 13/20\n",
      "47/47 [==============================] - 1s 11ms/step - loss: 0.2911 - accuracy: 0.8792 - val_loss: 0.3182 - val_accuracy: 0.8690\n",
      "Epoch 14/20\n",
      "47/47 [==============================] - 1s 13ms/step - loss: 0.2879 - accuracy: 0.8799 - val_loss: 0.3136 - val_accuracy: 0.8580\n",
      "Epoch 15/20\n",
      "47/47 [==============================] - 1s 13ms/step - loss: 0.2868 - accuracy: 0.8805 - val_loss: 0.3109 - val_accuracy: 0.8520\n",
      "Epoch 16/20\n",
      "47/47 [==============================] - 1s 12ms/step - loss: 0.2850 - accuracy: 0.8803 - val_loss: 0.3132 - val_accuracy: 0.8580\n",
      "Epoch 17/20\n",
      "47/47 [==============================] - 1s 11ms/step - loss: 0.2813 - accuracy: 0.8829 - val_loss: 0.3153 - val_accuracy: 0.8530\n",
      "Epoch 18/20\n",
      "47/47 [==============================] - 0s 7ms/step - loss: 0.2780 - accuracy: 0.8833 - val_loss: 0.3164 - val_accuracy: 0.8690\n",
      "Epoch 19/20\n",
      "47/47 [==============================] - 0s 7ms/step - loss: 0.2785 - accuracy: 0.8824 - val_loss: 0.3118 - val_accuracy: 0.8660\n",
      "Epoch 20/20\n",
      "47/47 [==============================] - 0s 7ms/step - loss: 0.2730 - accuracy: 0.8854 - val_loss: 0.3136 - val_accuracy: 0.8630\n"
     ]
    }
   ],
   "source": [
    "history  = model.fit(partial_x_train,\n",
    "                    partial_y_train,\n",
    "                    epochs=20,\n",
    "                    batch_size = 512,\n",
    "                    validation_data = (x_val,y_val))"
   ]
  },
  {
   "cell_type": "code",
   "execution_count": 28,
   "metadata": {},
   "outputs": [],
   "source": [
    "import matplotlib.pyplot as plt"
   ]
  },
  {
   "cell_type": "code",
   "execution_count": 32,
   "metadata": {},
   "outputs": [],
   "source": [
    "history_dict  = history.history\n",
    "loss_values   = history_dict['loss']\n",
    "\n",
    "val_loss_values = history_dict['val_loss']\n",
    "\n",
    "epochs          = range(1, 21)"
   ]
  },
  {
   "cell_type": "code",
   "execution_count": 35,
   "metadata": {},
   "outputs": [
    {
     "data": {
      "image/png": "[encoded data removed]",
      "text/plain": [
       "<Figure size 432x288 with 1 Axes>"
      ]
     },
     "metadata": {
      "needs_background": "light"
     },
     "output_type": "display_data"
    }
   ],
   "source": [
    "plt.plot(epochs, loss_values, \"bo\", label = 'Training loss')\n",
    "plt.plot(epochs, val_loss_values, 'b', label = 'Validation loss')\n",
    "plt.title(\"Training and Validation Loss\")\n",
    "plt.xlabel(\"Epochs\")\n",
    "plt.ylabel(\"Loss\")\n",
    "plt.legend()\n",
    "\n",
    "plt.show()"
   ]
  },
  {
   "cell_type": "markdown",
   "metadata": {},
   "source": [
    "#### Check model fit"
   ]
  },
  {
   "cell_type": "code",
   "execution_count": 36,
   "metadata": {},
   "outputs": [
    {
     "name": "stdout",
     "output_type": "stream",
     "text": [
      "782/782 [==============================] - 1s 2ms/step - loss: 0.3321 - accuracy: 0.8584\n"
     ]
    }
   ],
   "source": [
    "results = model.evaluate(x_test, y_test)"
   ]
  }
 ],
 "metadata": {
  "kernelspec": {
   "display_name": "Python 3",
   "language": "python",
   "name": "python3"
  },
  "language_info": {
   "codemirror_mode": {
    "name": "ipython",
    "version": 3
   },
   "file_extension": ".py",
   "mimetype": "text/x-python",
   "name": "python",
   "nbconvert_exporter": "python",
   "pygments_lexer": "ipython3",
   "version": "3.7.6"
  }
 },
 "nbformat": 4,
 "nbformat_minor": 4
}
